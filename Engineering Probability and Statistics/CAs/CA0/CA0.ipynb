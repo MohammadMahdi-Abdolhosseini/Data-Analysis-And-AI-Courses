{
 "cells": [
  {
   "cell_type": "code",
   "execution_count": 1,
   "metadata": {},
   "outputs": [
    {
     "name": "stdout",
     "output_type": "stream",
     "text": [
      "Enter a number: 5\n",
      "[1, 1, 2, 3, 5]\n"
     ]
    }
   ],
   "source": [
    "#Question 1:\n",
    "#Fibonacci: F(n) = F(n-1) + F(n-2) ; F(1) = F(2) = 1\n",
    "def F(num):\n",
    "    if (num > 2):\n",
    "        return F(num - 1) + F(num - 2)\n",
    "    else:\n",
    "        return 1\n",
    "num = i = int(input(\"Enter a number: \"))\n",
    "nums = []\n",
    "while(num > 0):\n",
    "    nums.append(F(i - num + 1)) # nums = [1,1,2,3,5,...] not [...,5,3,2,1,1]\n",
    "    num -= 1\n",
    "print (nums)"
   ]
  },
  {
   "cell_type": "code",
   "execution_count": 2,
   "metadata": {},
   "outputs": [
    {
     "name": "stdout",
     "output_type": "stream",
     "text": [
      "Enter a number: 5\n",
      "[[1. 0. 0. 0. 0.]\n",
      " [1. 1. 0. 0. 0.]\n",
      " [1. 2. 1. 0. 0.]\n",
      " [1. 3. 3. 1. 0.]\n",
      " [1. 4. 6. 4. 1.]]\n"
     ]
    }
   ],
   "source": [
    "#Question 2:\n",
    "#[n×n] Khayyam-Pascal Matrix:\n",
    "import numpy as np\n",
    "def KPM(n):\n",
    "    Mat = np.zeros([n,n])\n",
    "    for i in range(0,n):\n",
    "        for j in range(0,n):\n",
    "            if (j == 0) or (i == j):\n",
    "                Mat[i,j] = 1\n",
    "            elif (i > j):\n",
    "                Mat[i,j] = Mat[i-1,j] + Mat[i-1,j-1]\n",
    "    return Mat\n",
    "n = int(input(\"Enter a number: \"))\n",
    "print (KPM(n))"
   ]
  },
  {
   "cell_type": "code",
   "execution_count": 3,
   "metadata": {},
   "outputs": [
    {
     "name": "stdout",
     "output_type": "stream",
     "text": [
      "Enter file name , first word , second word: data , Name, , ########sd\n"
     ]
    }
   ],
   "source": [
    "#Question 3:\n",
    "#Replace one word with another:\n",
    "def Rep(fname,w1,w2):\n",
    "    f = open(fname + \".txt\", 'rt')\n",
    "    fnew = open(\"New \" + fname + \".txt\", 'wt')\n",
    "    for w in f:\n",
    "        fnew.write(w.replace(w1, w2))\n",
    "    f.close()\n",
    "    fnew.close()\n",
    "#Enter file name like 'data' not 'data.txt'; (without '.txt')\n",
    "#After every word enter ' , '; (space comma space)\n",
    "[fname,w1,w2] = [(x) for x in input(\"Enter file name , first word , second word: \").split(\" , \")]\n",
    "Rep(fname,w1,w2)"
   ]
  },
  {
   "cell_type": "code",
   "execution_count": 4,
   "metadata": {},
   "outputs": [
    {
     "name": "stdout",
     "output_type": "stream",
     "text": [
      "[{'first name': 'Alex', 'last name': 'James', 'age': 25, 'height': 190, 'weight': 84, 'nationality': 'British'}, {'first name': 'Sara', 'last name': 'Anderson', 'age': 20, 'height': 160, 'weight': 98, 'nationality': 'American'}, {'first name': 'Roberto', 'last name': 'Carlos', 'age': 48, 'height': 183, 'weight': 78, 'nationality': 'Spanish'}, {'first name': 'Mohammad', 'last name': 'Amiri', 'age': 35, 'height': 190, 'weight': 77, 'nationality': 'Iranian'}]\n"
     ]
    }
   ],
   "source": [
    "#Question 4:\n",
    "#Dictionaries:\n",
    "def dictor(fname):\n",
    "    f = open(fname + \".txt\", 'rt')\n",
    "    lines = f.read().split('\\n')\n",
    "    line1 = lines[0].split(', ')\n",
    "    lines = lines[1:]\n",
    "    n = 0\n",
    "    for i in lines:\n",
    "        n += 1\n",
    "    Dict={'first name': 'a' , 'last name': 'a' ,'age': 12 , 'height': 120 , 'weight':15 , 'nationality': 'i'}\n",
    "    List = []\n",
    "    for i in range(0,n):\n",
    "        linei = lines[i].split(' * ')\n",
    "        Dict['first name'] = linei[0].capitalize()\n",
    "        Dict['last name'] = linei[1].capitalize()\n",
    "        Dict['age'] = int(linei[2])\n",
    "        Dict['height'] = int(linei[3])\n",
    "        Dict['weight'] = int(linei[4])\n",
    "        Dict['nationality'] = linei[5]\n",
    "        d = Dict.copy()\n",
    "        List.append(d)\n",
    "    return List\n",
    "fname = 'data'\n",
    "print(dictor(fname))"
   ]
  },
  {
   "cell_type": "code",
   "execution_count": 13,
   "metadata": {},
   "outputs": [
    {
     "name": "stdout",
     "output_type": "stream",
     "text": [
      "                                      Course  Credit  Mark_20  Mark_4\n",
      "0                                  Physics 1       3     20.0       4\n",
      "1                                 Calculus 1       3     15.0       3\n",
      "2                           English Language       3     20.0       4\n",
      "3                           Persian Language       3     14.0       3\n",
      "4                      Numerical Computation       2     14.5       3\n",
      "5                     Differential Equations       3     18.0       4\n",
      "6                                  Physics 2       3     19.5       4\n",
      "7                                 Calculus 2       3     16.2       4\n",
      "8                                      Sport       1     15.0       3\n",
      "9   Introduction to Computer and Programming       4     12.0       2\n",
      "10                          Electromagnetics       3     15.0       3\n",
      "11    Engineering Probability and Statistics       3     14.0       3\n",
      "12                   Engineering Mathematics       3     12.5       2 \n",
      "GPA = 3.216216\n"
     ]
    }
   ],
   "source": [
    "#Question 5:\n",
    "#Excel:\n",
    "import numpy as np\n",
    "import pandas as pd\n",
    "df = pd.read_csv('Transcripts.csv')\n",
    "m20 = df['Mark_20']\n",
    "m4 = []\n",
    "for i in m20:\n",
    "    if (20 >= i) and (i >= 16):\n",
    "        m4.append(4)\n",
    "    elif (16 > i) and (i >= 14):\n",
    "        m4.append(3)\n",
    "    elif (14 > i) and (i >= 12):\n",
    "        m4.append(2)\n",
    "    elif (12 > i) and (i >= 10):\n",
    "        m4.append(1)\n",
    "    elif (10 > i) and (i >= 0):\n",
    "        m4.append(0)\n",
    "df['Mark_4'] = m4\n",
    "df.to_csv('Transcripts2.csv',index=False)\n",
    "GPA=sum((df['Credit'])*(df['Mark_4']))\n",
    "GPA=GPA/sum(df['Credit'])\n",
    "print(df,'\\nGPA = %f'%(GPA))"
   ]
  },
  {
   "cell_type": "code",
   "execution_count": null,
   "metadata": {},
   "outputs": [],
   "source": []
  }
 ],
 "metadata": {
  "kernelspec": {
   "display_name": "Python 3",
   "language": "python",
   "name": "python3"
  },
  "language_info": {
   "codemirror_mode": {
    "name": "ipython",
    "version": 3
   },
   "file_extension": ".py",
   "mimetype": "text/x-python",
   "name": "python",
   "nbconvert_exporter": "python",
   "pygments_lexer": "ipython3",
   "version": "3.8.3"
  }
 },
 "nbformat": 4,
 "nbformat_minor": 4
}
